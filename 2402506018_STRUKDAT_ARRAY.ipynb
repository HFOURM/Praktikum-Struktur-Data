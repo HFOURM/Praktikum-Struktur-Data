{
  "nbformat": 4,
  "nbformat_minor": 0,
  "metadata": {
    "colab": {
      "provenance": [],
      "include_colab_link": true
    },
    "kernelspec": {
      "name": "python3",
      "display_name": "Python 3"
    },
    "language_info": {
      "name": "python"
    }
  },
  "cells": [
    {
      "cell_type": "markdown",
      "metadata": {
        "id": "view-in-github",
        "colab_type": "text"
      },
      "source": [
        "<a href=\"https://colab.research.google.com/github/HFOURM/Praktikum-Struktur-Data/blob/main/2402506018_STRUKDAT_ARRAY.ipynb\" target=\"_parent\"><img src=\"https://colab.research.google.com/assets/colab-badge.svg\" alt=\"Open In Colab\"/></a>"
      ]
    },
    {
      "cell_type": "markdown",
      "source": [
        "# Array 1 Dimensi"
      ],
      "metadata": {
        "id": "c0CkLwm_eP2Q"
      }
    },
    {
      "cell_type": "code",
      "execution_count": null,
      "metadata": {
        "colab": {
          "base_uri": "https://localhost:8080/"
        },
        "id": "R4Iofi4MFGa6",
        "outputId": "d6e4104c-23b5-49f8-97e0-860a5d4565dc"
      },
      "outputs": [
        {
          "output_type": "stream",
          "name": "stdout",
          "text": [
            "Isi array angka : [10, 20, 30, 40, 50]\n"
          ]
        }
      ],
      "source": [
        "# Deklarasi array kosong\n",
        "data = []\n",
        "\n",
        "# Inisialisasi array dengan elemen\n",
        "angka = [10, 20, 30, 40, 50]\n",
        "\n",
        "# Menampilkan isi array\n",
        "print(\"Isi array angka :\", angka)"
      ]
    },
    {
      "cell_type": "markdown",
      "source": [
        "Latihan 1"
      ],
      "metadata": {
        "id": "lKW8Yx_YJFGy"
      }
    },
    {
      "cell_type": "code",
      "source": [
        "# Inisialisasi array NPM\n",
        "npm = [2420506018 ,2420506019, 2420506020 ,2420506021]\n",
        "\n",
        "# Menampilkan isi array\n",
        "print(\"NPM saya dan 4 NPM setelah saya adalah :\", npm)"
      ],
      "metadata": {
        "colab": {
          "base_uri": "https://localhost:8080/"
        },
        "id": "bmMqSlwRJD-U",
        "outputId": "a9606987-5857-42af-8d29-6485ca588f1e"
      },
      "execution_count": null,
      "outputs": [
        {
          "output_type": "stream",
          "name": "stdout",
          "text": [
            "NPM saya dan 4 NPM setelah saya adalah : [2420506018, 2420506019, 2420506020, 2420506021]\n"
          ]
        }
      ]
    },
    {
      "cell_type": "markdown",
      "source": [
        "Operasi dasar pada array"
      ],
      "metadata": {
        "id": "idFxfwJgL0sE"
      }
    },
    {
      "cell_type": "code",
      "source": [
        "# Mengakses elemen Array\n",
        "print(\"Element pertama:\", angka[0])\n",
        "print(\"Element terakhir:\", angka[-1])"
      ],
      "metadata": {
        "id": "25NQ9dXzL0-j"
      },
      "execution_count": null,
      "outputs": []
    },
    {
      "cell_type": "code",
      "source": [
        "# Menambah elemen menggunakan append()\n",
        "angka.append(60)\n",
        "print(\"Array setelah ditambah:\", angka)\n",
        "\n",
        "# Menambah elemen menggunakan insert()\n",
        "angka.insert(2, 25) # Menggunakan 25 di indeks ke-2\n",
        "print(\"Array setelah penambahan element dengan insert\", angka)"
      ],
      "metadata": {
        "id": "nlIHWRrbN0WU"
      },
      "execution_count": null,
      "outputs": []
    },
    {
      "cell_type": "code",
      "source": [
        "# Menghapus elemen menggunakan remove()\n",
        "angka.remove(25)\n",
        "print(\"Array setelah dihapus:\", angka)\n",
        "\n",
        "# Menghapus elemen menggunakan pop()\n",
        "angka.pop(2) # Menghapus elemen pada indeks ke-2\n",
        "print(\"Array setelah menghapus pada indeks 2:\", angka)"
      ],
      "metadata": {
        "id": "zK7ft9fCMYG0"
      },
      "execution_count": null,
      "outputs": []
    },
    {
      "cell_type": "code",
      "source": [
        "# Mengubah elemen pada indeks 0\n",
        "angka[0] = 100\n",
        "print(\"Array setelah mengubah elemen pertama:\", angka)"
      ],
      "metadata": {
        "id": "9qhk1Nc9NNJl"
      },
      "execution_count": null,
      "outputs": []
    },
    {
      "cell_type": "markdown",
      "source": [
        "Latihan 2"
      ],
      "metadata": {
        "id": "XNwFtlVnKOyd"
      }
    },
    {
      "cell_type": "code",
      "source": [
        "# Inisialisasi array angka\n",
        "angka = [10, 20, 30, 40, 50]\n",
        "\n",
        "# Menambah  nilai NPM (2 digit terakhir)\n",
        "angka.append(18)\n",
        "\n",
        "# Menghapus elemen pertama\n",
        "angka.remove(angka[0])\n",
        "\n",
        "# Menampilkan isi array\n",
        "print(angka)"
      ],
      "metadata": {
        "colab": {
          "base_uri": "https://localhost:8080/"
        },
        "id": "YpI-8L0-Nmmk",
        "outputId": "a6b221a8-9561-4e5b-c106-210c1d20bf16"
      },
      "execution_count": null,
      "outputs": [
        {
          "output_type": "stream",
          "name": "stdout",
          "text": [
            "[20, 30, 40, 50, 18]\n"
          ]
        }
      ]
    },
    {
      "cell_type": "markdown",
      "source": [
        "# Iterasi dan Operasi pada Array"
      ],
      "metadata": {
        "id": "gqAmqE6tRb29"
      }
    },
    {
      "cell_type": "code",
      "source": [
        "# Iterasi dengan perulangan\n",
        "angka = [10, 20, 30, 40]\n",
        "\n",
        "for nilai in angka:\n",
        "    print(\"Nilai:\", nilai)"
      ],
      "metadata": {
        "colab": {
          "base_uri": "https://localhost:8080/"
        },
        "id": "fCQx55zWRKht",
        "outputId": "b9bdc890-6e48-42b6-a468-ac78ec9fb228"
      },
      "execution_count": null,
      "outputs": [
        {
          "output_type": "stream",
          "name": "stdout",
          "text": [
            "Nilai: 10\n",
            "Nilai: 20\n",
            "Nilai: 30\n",
            "Nilai: 40\n"
          ]
        }
      ]
    },
    {
      "cell_type": "markdown",
      "source": [
        "Latihan 3"
      ],
      "metadata": {
        "id": "1V2LRGRVR3Bm"
      }
    },
    {
      "cell_type": "code",
      "source": [
        "nama = [\"TEKNIK\", \"EKONOMI\", \"KEGURUAN DAN ILMU PENDIDIKAN\", \"ILMU SOSIAL DAN ILMU POLITIK\", \"PERTANIAN\"]\n",
        "\n",
        "for fakultas in nama:\n",
        "    print(\"FAKULTAS\", fakultas)"
      ],
      "metadata": {
        "colab": {
          "base_uri": "https://localhost:8080/"
        },
        "id": "oFhR_xuoRaJF",
        "outputId": "c5aac73f-9047-40ea-b34d-28c7d0ab8ea8"
      },
      "execution_count": null,
      "outputs": [
        {
          "output_type": "stream",
          "name": "stdout",
          "text": [
            "FAKULTAS TEKNIK\n",
            "FAKULTAS EKONOMI\n",
            "FAKULTAS KEGURUAN DAN ILMU PENDIDIKAN\n",
            "FAKULTAS ILMU SOSIAL DAN ILMU POLITIK\n",
            "FAKULTAS PERTANIAN\n"
          ]
        }
      ]
    },
    {
      "cell_type": "code",
      "source": [
        "# Operasi matematika sederhana\n",
        "angka = [10, 20, 30, 40]\n",
        "\n",
        "print(\"Jumlah total:\", sum(angka))\n",
        "print(\"Nilai maksimum:\", max(angka))\n",
        "print(\"Nilai minimum\", min(angka))"
      ],
      "metadata": {
        "colab": {
          "base_uri": "https://localhost:8080/"
        },
        "id": "L6rsklU_TH0-",
        "outputId": "e489423a-b7c2-4556-f30d-61221ae160a4"
      },
      "execution_count": null,
      "outputs": [
        {
          "output_type": "stream",
          "name": "stdout",
          "text": [
            "Jumlah total: 100\n",
            "Nilai maksimum: 40\n",
            "Nilai minimum 10\n"
          ]
        }
      ]
    },
    {
      "cell_type": "markdown",
      "source": [
        "Latihan 4"
      ],
      "metadata": {
        "id": "Pf_lYD_4VcDO"
      }
    },
    {
      "cell_type": "code",
      "source": [
        "harga = [ 2000, 5000, 10000,  20000]\n",
        "\n",
        "print('Jumlah elemen array harga adalah :', len(harga))"
      ],
      "metadata": {
        "colab": {
          "base_uri": "https://localhost:8080/"
        },
        "id": "ekEO8MkJVaRG",
        "outputId": "e8854383-5547-4d7d-dec4-102d5660fbde"
      },
      "execution_count": null,
      "outputs": [
        {
          "output_type": "stream",
          "name": "stdout",
          "text": [
            "Jumlah elemen array harga adalah : 4\n"
          ]
        }
      ]
    },
    {
      "cell_type": "markdown",
      "source": [
        "# Array 2 Dimensi"
      ],
      "metadata": {
        "id": "ELRuOXvGeCPP"
      }
    },
    {
      "cell_type": "code",
      "source": [
        "# Deklarasi array 2D\n",
        "matriks = [\n",
        "    [1, 2, 3],\n",
        "    [4, 5, 6],\n",
        "    [7, 8, 9]\n",
        "]\n",
        "\n",
        "# Menampilkan isi array 2D\n",
        "print(\" isi array 2D:\")\n",
        "for baris in matriks:\n",
        "    print(baris)"
      ],
      "metadata": {
        "colab": {
          "base_uri": "https://localhost:8080/"
        },
        "id": "aGlQKLJ2WP8t",
        "outputId": "ad35bb9c-a73d-4f72-f02c-ed57a13de0eb"
      },
      "execution_count": null,
      "outputs": [
        {
          "output_type": "stream",
          "name": "stdout",
          "text": [
            " isi array 2D:\n",
            "[1, 2, 3]\n",
            "[4, 5, 6]\n",
            "[7, 8, 9]\n"
          ]
        }
      ]
    },
    {
      "cell_type": "markdown",
      "source": [
        "Latihan 5"
      ],
      "metadata": {
        "id": "JMAMa8vPWBAP"
      }
    },
    {
      "cell_type": "code",
      "source": [
        "# Deklarasi array 2D\n",
        "matriks = [\n",
        "    [1, 2, 3, 4,],\n",
        "    [5, 6, 7, 8,],\n",
        "    [9, 10, 11, 12,]\n",
        "]\n",
        "\n",
        "# Menampilkan  isi array 2D\n",
        "print(\"Isi array:\")\n",
        "for baris in matriks:\n",
        "    print(baris)"
      ],
      "metadata": {
        "colab": {
          "base_uri": "https://localhost:8080/"
        },
        "id": "Rgw32brlWDI1",
        "outputId": "e9328abd-f545-4b82-e7c6-f103e3d2e879"
      },
      "execution_count": null,
      "outputs": [
        {
          "output_type": "stream",
          "name": "stdout",
          "text": [
            "Isi array:\n",
            "[1, 2, 3, 4]\n",
            "[5, 6, 7, 8]\n",
            "[9, 10, 11, 12]\n"
          ]
        }
      ]
    },
    {
      "cell_type": "code",
      "source": [
        "# Mengakses elemen pada baris ke-1, kolom ke-2 (indeks [0] [1])\n",
        "print(\"Elemen pada baris ke-1, kolom ke-2:\", matriks[0][1])\n",
        "\n",
        "# Mengakses elemen terakhir (baris ke-3, kolom ke-3)\n",
        "print(\"Elemen terakhir:\", matriks[-1][-1])"
      ],
      "metadata": {
        "id": "ynoAn-7tXQIv"
      },
      "execution_count": null,
      "outputs": []
    },
    {
      "cell_type": "markdown",
      "source": [
        "Latihan 6"
      ],
      "metadata": {
        "id": "Hq8k3tdBXMte"
      }
    },
    {
      "cell_type": "code",
      "source": [
        "# Deklarasi array 2D\n",
        "matriks = [\n",
        "    [1, 2, 3, 4,],\n",
        "    [5, 6, 7, 8,],\n",
        "    [9, 10, 11, 12,]\n",
        "]\n",
        "\n",
        "# Menampilkan isi array 2D\n",
        "print(\"Isi array 2D:\")\n",
        "for baris in matriks:\n",
        "    print(baris)\n",
        "\n",
        "# Mengakses elemen pada baris ke-3, kolom ke-4 (indeks [2] [3])\n",
        "print(\"Elemen pada baris ke-3, kolom ke-4:\", matriks[2][3])"
      ],
      "metadata": {
        "colab": {
          "base_uri": "https://localhost:8080/"
        },
        "id": "0sz5sA8NXOKl",
        "outputId": "78ecc97b-c2a4-439b-c37d-c9e4ca09c15a"
      },
      "execution_count": null,
      "outputs": [
        {
          "output_type": "stream",
          "name": "stdout",
          "text": [
            "Isi array:\n",
            "[1, 2, 3, 4]\n",
            "[5, 6, 7, 8]\n",
            "[9, 10, 11, 12]\n",
            "Elemen pada baris ke-3, kolom ke-4: 12\n"
          ]
        }
      ]
    },
    {
      "cell_type": "code",
      "source": [
        "# Menambahkan baris baru\n",
        "matriks.append([10, 11, 12])\n",
        "print(\"Array setelah menambahkan baris baru:\", matriks)\n",
        "\n",
        "# Menambah elemen pada baris ke-2\n",
        "matriks[1].append(99)\n",
        "print(\"Array setelah menambahkan elemen pada baris ke-2:\", matriks)"
      ],
      "metadata": {
        "id": "p4-XsYQDYGPm"
      },
      "execution_count": null,
      "outputs": []
    },
    {
      "cell_type": "markdown",
      "source": [
        "Latihan 7"
      ],
      "metadata": {
        "id": "XIs33lEQYDlH"
      }
    },
    {
      "cell_type": "code",
      "source": [
        "# Deklarasi array 2D\n",
        "matriks = [\n",
        "    [1, 2, 3, 4,],\n",
        "    [5, 6, 7, 8,],\n",
        "    [9, 10, 11, 12,]\n",
        "]\n",
        "\n",
        "# Menambahkan baris baru\n",
        "matriks.append([6, 5, 20, 6])\n",
        "\n",
        "# Menampilkan isi array 2D\n",
        "print(\"Isi array 2D:\")\n",
        "for baris in matriks:\n",
        "    print(baris)\n",
        "\n",
        "\n"
      ],
      "metadata": {
        "colab": {
          "base_uri": "https://localhost:8080/"
        },
        "id": "FDQe9OKUYFul",
        "outputId": "11aea5fe-d982-479d-fe42-f34606f8c6f9"
      },
      "execution_count": null,
      "outputs": [
        {
          "output_type": "stream",
          "name": "stdout",
          "text": [
            "Isi array 2D:\n",
            "[1, 2, 3, 4]\n",
            "[5, 6, 7, 8]\n",
            "[9, 10, 11, 12]\n",
            "[6, 5, 20, 6]\n"
          ]
        }
      ]
    },
    {
      "cell_type": "code",
      "source": [
        "# Menghapus element tertentu dari baris ke-1\n",
        "matriks[0].remove(2)\n",
        "print(\"Array setelah menghapus elemen 2 dari baris pertama:\", matriks)\n",
        "\n",
        "# Menghapus elemen pada indeks tertentu dari baris ke-2\n",
        "matriks[1].pop(1)\n",
        "print(\"Array setelah menghapus elemen indeks ke-1 dari baris ke-2:\", matriks)"
      ],
      "metadata": {
        "id": "Z9TzILzKav7P"
      },
      "execution_count": null,
      "outputs": []
    },
    {
      "cell_type": "markdown",
      "source": [
        "Latihan 8\n"
      ],
      "metadata": {
        "id": "8qpB_wV8bOIP"
      }
    },
    {
      "cell_type": "code",
      "source": [
        "# Deklarasi array 2D\n",
        "matriks = [\n",
        "    [1, 2, 3, 4,],\n",
        "    [5, 6, 7, 8,],\n",
        "    [9, 10, 11, 12,]\n",
        "]\n",
        "\n",
        "# Menambahkan barus baru\n",
        "matriks.append([6, 5, 20, 6])\n",
        "\n",
        "# Menghapus element ke-3 dari baris terakhir\n",
        "matriks[-1].pop(2)\n",
        "\n",
        "# Menampilkan isi array 2D\n",
        "print(\"Array setelah menghapus elemen indeks ke-2 dari baris terakhir:\")\n",
        "for baris in matriks:\n",
        "    print(baris)"
      ],
      "metadata": {
        "colab": {
          "base_uri": "https://localhost:8080/"
        },
        "id": "iLTbLbbnbNTg",
        "outputId": "ea44e0f4-1c41-45cd-f4ad-5c78bf339d79"
      },
      "execution_count": null,
      "outputs": [
        {
          "output_type": "stream",
          "name": "stdout",
          "text": [
            "Array setelah menghapus elemen indeks ke-2 dari baris terakhir:\n",
            "[1, 2, 3, 4]\n",
            "[5, 6, 7, 8]\n",
            "[9, 10, 11, 12]\n",
            "[6, 5, 6]\n"
          ]
        }
      ]
    },
    {
      "cell_type": "code",
      "source": [
        "# Mengubah elemen pada baris ke-3, kolom ke-2\n",
        "matriks[2][1] = 88\n",
        "print(\"Array setelah mengubah elemen baris ke-3, kolom ke-2:\", matriks)"
      ],
      "metadata": {
        "id": "MwqkmIGrcwL_"
      },
      "execution_count": null,
      "outputs": []
    },
    {
      "cell_type": "markdown",
      "source": [
        "Latihan 9"
      ],
      "metadata": {
        "id": "ztfMNU51cqCg"
      }
    },
    {
      "cell_type": "code",
      "source": [
        "# Deklarasi array 2D\n",
        "matriks = [\n",
        "    [1, 2, 3, 4,],\n",
        "    [5, 6, 7, 8,],\n",
        "    [9, 10, 11, 12,]\n",
        "]\n",
        "\n",
        "# Menambahkan barus baru\n",
        "matriks.append([6, 5, 20, 6])\n",
        "\n",
        "# Menghapus element ke-3 dari baris terakhir\n",
        "matriks[-1].pop(2)\n",
        "\n",
        "# Mengubah elemen pada baris terakhir kolom terakhir dengan tanggal hari ini \"14\"\n",
        "matriks[-1][-1] = 14\n",
        "\n",
        "# Menampilkan isi array 2D\n",
        "print(\"Array setelah mengubah elemen baris terakhir, kolom terakhir:\")\n",
        "for baris in matriks:\n",
        "    print(baris)"
      ],
      "metadata": {
        "colab": {
          "base_uri": "https://localhost:8080/"
        },
        "id": "N-kAzXbtcuEG",
        "outputId": "4f3815e1-42e6-4961-81b8-6377f3e9d3dd"
      },
      "execution_count": null,
      "outputs": [
        {
          "output_type": "stream",
          "name": "stdout",
          "text": [
            "Array setelah mengubah elemen baris terakhir, kolom terakhir:\n",
            "[1, 2, 3, 4]\n",
            "[5, 6, 7, 8]\n",
            "[9, 10, 11, 12]\n",
            "[6, 5, 14]\n"
          ]
        }
      ]
    },
    {
      "cell_type": "markdown",
      "source": [
        "# Studi Kasus Sederhana"
      ],
      "metadata": {
        "id": "XYhhj0EjdyQy"
      }
    },
    {
      "cell_type": "code",
      "source": [
        "# Menyimpan Daftar Belanja\n",
        "belanja = [\"Beras\", \"Gula\", \"Minyak\"]\n",
        "belanja.append(\"Teh\")\n",
        "belanja.remove(\"Gula\")\n",
        "print(\"Daftar belanja terbaru\", belanja)"
      ],
      "metadata": {
        "colab": {
          "base_uri": "https://localhost:8080/"
        },
        "id": "uiTxHjhCejyW",
        "outputId": "4ae15bce-48ab-4cb0-ec18-97cb658cca2a"
      },
      "execution_count": null,
      "outputs": [
        {
          "output_type": "stream",
          "name": "stdout",
          "text": [
            "Daftar belanja terbaru ['Beras', 'Minyak', 'Teh']\n"
          ]
        }
      ]
    },
    {
      "cell_type": "markdown",
      "source": [
        "Latihan 10"
      ],
      "metadata": {
        "id": "g9puSwwjcrkP"
      }
    },
    {
      "cell_type": "code",
      "source": [
        "# Daftar Belanja\n",
        "belanja = [\"Poco X7\", \"Redmi note 14 5G\", \"Legion 5\"]\n",
        "belanja.append(\"Toyota Supra\")\n",
        "belanja.remove(\"Poco X7\")\n",
        "print(\"Daftar belanja terbaru\")\n",
        "for barang in belanja:\n",
        "    print(barang)"
      ],
      "metadata": {
        "colab": {
          "base_uri": "https://localhost:8080/"
        },
        "id": "YZHQgxh1edeX",
        "outputId": "053ad2f8-1173-4002-c7e1-11ed0a8ae647"
      },
      "execution_count": null,
      "outputs": [
        {
          "output_type": "stream",
          "name": "stdout",
          "text": [
            "Daftar belanja terbaru\n",
            "Redmi note 14 5G\n",
            "Legion 5\n",
            "Toyota Supra\n"
          ]
        }
      ]
    }
  ]
}