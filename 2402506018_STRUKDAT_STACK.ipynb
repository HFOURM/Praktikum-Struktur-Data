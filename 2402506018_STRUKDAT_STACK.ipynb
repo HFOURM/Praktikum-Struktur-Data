{
  "nbformat": 4,
  "nbformat_minor": 0,
  "metadata": {
    "colab": {
      "provenance": [],
      "authorship_tag": "ABX9TyPYtpnikyEF4IfwgqzUct8r",
      "include_colab_link": true
    },
    "kernelspec": {
      "name": "python3",
      "display_name": "Python 3"
    },
    "language_info": {
      "name": "python"
    }
  },
  "cells": [
    {
      "cell_type": "markdown",
      "metadata": {
        "id": "view-in-github",
        "colab_type": "text"
      },
      "source": [
        "<a href=\"https://colab.research.google.com/github/HFOURM/Praktikum-Struktur-Data/blob/main/2402506018_STRUKDAT_STACK.ipynb\" target=\"_parent\"><img src=\"https://colab.research.google.com/assets/colab-badge.svg\" alt=\"Open In Colab\"/></a>"
      ]
    },
    {
      "cell_type": "markdown",
      "source": [
        "# Implementasi Stack dengan List Python - Fitur \"Undo\" dalam Teks Editor (pop())"
      ],
      "metadata": {
        "id": "2aLAfaqjSQ2s"
      }
    },
    {
      "cell_type": "code",
      "execution_count": null,
      "metadata": {
        "colab": {
          "base_uri": "https://localhost:8080/"
        },
        "id": "titz5HHlOtUM",
        "outputId": "e38418be-adff-40bc-b935-6a4ce2b8cd4e"
      },
      "outputs": [
        {
          "output_type": "stream",
          "name": "stdout",
          "text": [
            "Undo: Menghapus 'Ini teks ketiga.'\n",
            "Undo: Menghapus 'Ini teks kedua.'\n"
          ]
        }
      ],
      "source": [
        "class TextEditor:\n",
        "        def __init__(self):\n",
        "            self.history = []\n",
        "\n",
        "        def write(self, text):\n",
        "            self.history.append(text)\n",
        "\n",
        "        def undo(self):\n",
        "            if self.history:\n",
        "                return f\"Undo: Menghapus '{self.history.pop()}'\"\n",
        "            return \" Tidak ada yang bisa di-undo\"\n",
        "\n",
        "# Contoh Penggunaan\n",
        "editor = TextEditor()\n",
        "editor.write(\"Helo, ini teks pertama.\")\n",
        "editor.write(\"Ini teks kedua.\")\n",
        "editor.write(\"Ini teks ketiga.\")\n",
        "\n",
        "print(editor.undo())\n",
        "print(editor.undo())"
      ]
    },
    {
      "cell_type": "markdown",
      "source": [
        "Latihan 1"
      ],
      "metadata": {
        "id": "Wt5HJfKqSQJn"
      }
    },
    {
      "cell_type": "code",
      "source": [
        "class Kalkulator:\n",
        "    def __init__(self):\n",
        "        self.history = []\n",
        "\n",
        "    def operasi(self, operasi):\n",
        "        self.history.append(operasi)\n",
        "\n",
        "    def undo(self):\n",
        "        if self.history:\n",
        "            return f\"Undo: Menghapus '{self.history.pop()}'\"\n",
        "        return \" Tidak ada yang bisa di-undo\"\n",
        "\n",
        "# Contoh Penggunaan\n",
        "num = Kalkulator()\n",
        "num.operasi(\"18 + 1\")\n",
        "num.operasi(\"19!\")\n",
        "num.operasi(\"20*1\")\n",
        "\n",
        "print(num.undo())\n",
        "print(num.undo())"
      ],
      "metadata": {
        "colab": {
          "base_uri": "https://localhost:8080/"
        },
        "id": "kfKHVAbASxzF",
        "outputId": "ac6a9847-0c5e-4dce-ec39-c15ccc6f2f36"
      },
      "execution_count": null,
      "outputs": [
        {
          "output_type": "stream",
          "name": "stdout",
          "text": [
            "Undo: Menghapus '20*1'\n",
            "Undo: Menghapus '19!'\n"
          ]
        }
      ]
    },
    {
      "cell_type": "markdown",
      "source": [
        "# Implementasai Stack dengan collections.deque – Navigasi History Browser(push())"
      ],
      "metadata": {
        "id": "Fy6WP4KaXonV"
      }
    },
    {
      "cell_type": "code",
      "source": [
        "from collections import deque\n",
        "\n",
        "class BrowserHistory:\n",
        "    def __init__(self):\n",
        "      self.history = deque()\n",
        "\n",
        "    def visit(self, url):\n",
        "        self.history.append(url)\n",
        "        print(f\"Mengunjungi: {url}\")\n",
        "\n",
        "    def back(self):\n",
        "        if self.history:\n",
        "            print(f\"Kembali ke: {self.history.pop()}\")\n",
        "        else:\n",
        "            print(\"Tidak ada riwayat!\")\n",
        "\n",
        "# Contoh Penggunaan\n",
        "browser = BrowserHistory()\n",
        "browser.visit(\"google.com\")\n",
        "browser.visit(\"youtube.com\")\n",
        "browser.visit(\"github.com\")\n",
        "browser.back()\n",
        "browser.back()"
      ],
      "metadata": {
        "colab": {
          "base_uri": "https://localhost:8080/"
        },
        "id": "CJjH2p-7TTmN",
        "outputId": "eccad5b4-43bf-46f1-af4d-f990b12ce8f7"
      },
      "execution_count": null,
      "outputs": [
        {
          "output_type": "stream",
          "name": "stdout",
          "text": [
            "Mengunjungi: google.com\n",
            "Mengunjungi: youtube.com\n",
            "Mengunjungi: github.com\n",
            "Kembali ke: github.com\n",
            "Kembali ke: youtube.com\n"
          ]
        }
      ]
    },
    {
      "cell_type": "markdown",
      "source": [
        "Latihan 2"
      ],
      "metadata": {
        "id": "zl-tTfucSsJl"
      }
    },
    {
      "cell_type": "code",
      "source": [
        "from collections import deque\n",
        "\n",
        "class AplicationHistory:\n",
        "    def __init__(self):\n",
        "      self.history = deque()\n",
        "\n",
        "    def visit(self, fitur):\n",
        "        self.history.append(fitur)\n",
        "        print(f\"Mengunjungi: {fitur}\")\n",
        "\n",
        "    def back(self):\n",
        "        if self.history:\n",
        "            print(f\"Kembali ke: {self.history.pop()}\")\n",
        "        else:\n",
        "            print(\"Tidak ada riwayat!\")\n",
        "\n",
        "# Contoh Penggunaan\n",
        "name = AplicationHistory()\n",
        "name.visit(\"M18\")\n",
        "name.visit(\"Setting\")\n",
        "name.visit(\"Home\")\n",
        "name.back()\n",
        "name.back()"
      ],
      "metadata": {
        "colab": {
          "base_uri": "https://localhost:8080/"
        },
        "id": "SNJdHt7BXzt-",
        "outputId": "91a4f7ad-39ca-480e-acad-5082f6ba80a6"
      },
      "execution_count": null,
      "outputs": [
        {
          "output_type": "stream",
          "name": "stdout",
          "text": [
            "Mengunjungi: M18\n",
            "Mengunjungi: Setting\n",
            "Mengunjungi: Home\n",
            "Kembali ke: Home\n",
            "Kembali ke: Setting\n"
          ]
        }
      ]
    },
    {
      "cell_type": "markdown",
      "source": [
        "# Implementasi Stack dengan queue.LifoQueue - Sistem Pencadangan File (peek())"
      ],
      "metadata": {
        "id": "gt77ECsJX2_N"
      }
    },
    {
      "cell_type": "code",
      "source": [
        "from queue import LifoQueue\n",
        "class BackupSystem:\n",
        "    def __init__(self):\n",
        "        self.backups = LifoQueue()\n",
        "    def backup(self, version):\n",
        "        self.backups.put(version)\n",
        "    def latest_backup(self):\n",
        "        if not self.backups.empty():\n",
        "            return f\"Versi terbaru: {self.backups.queue[-1]}\"\n",
        "        return \"Tidak ada cadangan!\"\n",
        "\n",
        "# Contoh Penggunaan\n",
        "backup_system = BackupSystem()\n",
        "backup_system.backup(\"Backup_1\")\n",
        "backup_system.backup(\"Backup_2\")\n",
        "backup_system.backup(\"Backup_3\")\n",
        "print(backup_system.latest_backup())"
      ],
      "metadata": {
        "colab": {
          "base_uri": "https://localhost:8080/"
        },
        "id": "AFIqmNNDZOKX",
        "outputId": "7aa9c6d9-c2f9-47f2-ce2d-f06039595e75"
      },
      "execution_count": null,
      "outputs": [
        {
          "output_type": "stream",
          "name": "stdout",
          "text": [
            "Versi terbaru: Backup_3\n"
          ]
        }
      ]
    },
    {
      "cell_type": "markdown",
      "source": [
        "Latihan 3"
      ],
      "metadata": {
        "id": "trqeQ0jWSvQE"
      }
    },
    {
      "cell_type": "code",
      "source": [
        "from queue import LifoQueue\n",
        "class DraftEmail:\n",
        "    def __init__(self):\n",
        "        self.drafts = LifoQueue()\n",
        "    def add(self, drafts):\n",
        "        self.drafts.put(drafts)\n",
        "    def latest_draft(self):\n",
        "        if not self.drafts.empty():\n",
        "            return f\"Draft terbaru : {self.drafts.queue[-1]}\"\n",
        "        return \"Tidak ada draft yang baru!\"\n",
        "\n",
        "# Contoh Penggunaan\n",
        "subject = DraftEmail()\n",
        "subject.add(\"HA18\")\n",
        "subject.add(\"HA18.rev\")\n",
        "subject.add(\"HA18.rev1\")\n",
        "subject.add(\"HA18.rev2\")\n",
        "print(subject.latest_draft())"
      ],
      "metadata": {
        "id": "8tz0BXeHjlWJ",
        "colab": {
          "base_uri": "https://localhost:8080/"
        },
        "outputId": "5ff0ed89-7887-41e6-d201-b995d6a480bd"
      },
      "execution_count": null,
      "outputs": [
        {
          "output_type": "stream",
          "name": "stdout",
          "text": [
            "Draft terbaru : HA18.rev2\n"
          ]
        }
      ]
    },
    {
      "cell_type": "markdown",
      "source": [
        "# Implementasi Stack dengan OOP – Manajemen Antrian Pelanggan(isEmpty())"
      ],
      "metadata": {
        "id": "zQCO2boaaNWf"
      }
    },
    {
      "cell_type": "code",
      "source": [
        "class CustomerService:\n",
        "    def __init__(self):\n",
        "        self.tickets = []\n",
        "\n",
        "    def add_ticket(self, ticket):\n",
        "        self.tickets.append(ticket)\n",
        "\n",
        "    def process_ticket(self):\n",
        "        if not self.is_empty():\n",
        "            return f\"Memproses tiket: {self.tickets.pop()}\"\n",
        "        return \"Tidak ada tiket yang harus diproses.\"\n",
        "\n",
        "    def is_empty(self):\n",
        "        return len(self.tickets) == 0\n",
        "\n",
        "# Contoh Penggunaan\n",
        "service = CustomerService()\n",
        "service.add_ticket(\"Tiket 001\")\n",
        "service.add_ticket(\"Tiket 002\")\n",
        "print(service.process_ticket())\n",
        "print(service.is_empty())"
      ],
      "metadata": {
        "colab": {
          "base_uri": "https://localhost:8080/"
        },
        "id": "iogJnvKmahwu",
        "outputId": "f0c68deb-eeff-4a48-9ca0-e8e1e1813a75"
      },
      "execution_count": null,
      "outputs": [
        {
          "output_type": "stream",
          "name": "stdout",
          "text": [
            "Memproses tiket: Tiket 002\n",
            "False\n"
          ]
        }
      ]
    },
    {
      "cell_type": "markdown",
      "source": [
        "Latihan 4"
      ],
      "metadata": {
        "id": "aZZ_HEfdStMk"
      }
    },
    {
      "cell_type": "code",
      "source": [
        "class CinemaTicket:\n",
        "    def __init__(self):\n",
        "        self.ticket = []\n",
        "\n",
        "    def add(self, ticket):\n",
        "        self.ticket.append(ticket)\n",
        "\n",
        "    def process_ticket(self):\n",
        "        if not self.empty():\n",
        "            return f\"Memproses tiket: {self.ticket.pop()}\"\n",
        "        return \"Tidak ada yang harus diproses.\"\n",
        "\n",
        "    def empty(self):\n",
        "        return len(self.ticket) == 0\n",
        "\n",
        "#  Contoh Penggunaan\n",
        "movie = CinemaTicket()\n",
        "movie.add(\"M18\")\n",
        "movie.add(\"Star Wars\")\n",
        "movie.add(\"Spiderman\")\n",
        "movie.add(\"Aladin\")\n",
        "\n",
        "print(movie.process_ticket())"
      ],
      "metadata": {
        "id": "U7_x2PfObi8X",
        "colab": {
          "base_uri": "https://localhost:8080/"
        },
        "outputId": "b48997fc-b342-40be-a302-3aa55991a4c0"
      },
      "execution_count": 8,
      "outputs": [
        {
          "output_type": "stream",
          "name": "stdout",
          "text": [
            "Memproses tiket: Aladin\n"
          ]
        }
      ]
    }
  ]
}