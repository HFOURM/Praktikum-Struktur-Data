{
  "nbformat": 4,
  "nbformat_minor": 0,
  "metadata": {
    "colab": {
      "provenance": [],
      "authorship_tag": "ABX9TyMwBAMosyPo4AEdw/lo+5hv",
      "include_colab_link": true
    },
    "kernelspec": {
      "name": "python3",
      "display_name": "Python 3"
    },
    "language_info": {
      "name": "python"
    }
  },
  "cells": [
    {
      "cell_type": "markdown",
      "metadata": {
        "id": "view-in-github",
        "colab_type": "text"
      },
      "source": [
        "<a href=\"https://colab.research.google.com/github/HFOURM/Praktikum-Struktur-Data/blob/main/2402506018_TUGAS_STRUKDAT_ARRAY.ipynb\" target=\"_parent\"><img src=\"https://colab.research.google.com/assets/colab-badge.svg\" alt=\"Open In Colab\"/></a>"
      ]
    },
    {
      "cell_type": "markdown",
      "source": [
        "Implementasi pada Permainan sederhana"
      ],
      "metadata": {
        "id": "3kGIYkSthPun"
      }
    },
    {
      "cell_type": "code",
      "execution_count": null,
      "metadata": {
        "id": "6Th6CQYWOmbp",
        "colab": {
          "base_uri": "https://localhost:8080/"
        },
        "outputId": "0a166260-365b-48a2-ee83-6e7bc10194cb"
      },
      "outputs": [
        {
          "output_type": "stream",
          "name": "stdout",
          "text": [
            "Selamat datang di Treasure Hunt! Peta memiliki 10 lokasi (0 hingga 9).\n",
            "Masukkan lokasi harta karun(0-9):1\n",
            "\n",
            "Harta karun telah di sembunyikan! Sekarang giliran pemain menembak.\n",
            "Cobalah untuk menemukan harta karun dengan menembak indeks yang benar.\n",
            "\n",
            "Peta saat ini:  ['_', '_', '_', '_', '_', '_', '_', '_', '_', '_']\n",
            "Masukkan indeks tembakanmu (0-9):1\n",
            "Selamat! kamu menemukan harta karun di lokasi: 1\n",
            "Terima kasih sudah bermain !\n"
          ]
        }
      ],
      "source": [
        "# Ukuran peta\n",
        "size = 10\n",
        "\n",
        "# Membuat pete dengan harta karun tersembunyi\n",
        "treasure_map = [\"_\" for _ in range(size)]\n",
        "\n",
        "# Tentukan lokasi harta karin secara manual\n",
        "print(f\"Selamat datang di Treasure Hunt! Peta memiliki {size} lokasi (0 hingga {size-1}).\")\n",
        "treasure_index = int(input(f\"Masukkan lokasi harta karun(0-{size-1}):\"))\n",
        "while treasure_index < 0 or treasure_index >= size:\n",
        "    print(\"Lokasi tidak valid. Masukkan angak dalam rentang yang benar.\")\n",
        "    treasure_index = int(input(f\"Masukkan lokasi harta karun (0-{size-1}):\"))\n",
        "treasure_map[treasure_index] = \"X\" # Menyembunyikan harta karun di lokasi yang dipilih\n",
        "\n",
        "# Fungsi untuk memulai permainan\n",
        "def play_treasure_hunt():\n",
        "    print(\"\\nHarta karun telah di sembunyikan! Sekarang giliran pemain menembak.\")\n",
        "    print(\"Cobalah untuk menemukan harta karun dengan menembak indeks yang benar.\")\n",
        "\n",
        "    # Loop permainan\n",
        "    while  True:\n",
        "        # Menampilakan peta tersembunyi kepada pemain\n",
        "        print(\"\\nPeta saat ini: \", [\"_\" for _ in range(size)]) # Peta tersembunyi\n",
        "\n",
        "        # Input pemain\n",
        "        try:\n",
        "            guess = int(input(f\"Masukkan indeks tembakanmu (0-{size-1}):\"))\n",
        "        except ValueError:\n",
        "            print(\"Masukkan angka yang valid!\")\n",
        "            continue\n",
        "        # Validasi input\n",
        "        if guess < 0 or guess >= size:\n",
        "            print(\"Indeks tidak valid, pilih atar 0 hingga\", size-1)\n",
        "            continue\n",
        "\n",
        "        # Mengecek apakah tembakan benar\n",
        "        if treasure_map[guess] == \"X\":\n",
        "            print(\"Selamat! kamu menemukan harta karun di lokasi:\", guess)\n",
        "            break\n",
        "        else:\n",
        "            print(\" Tidak ada harta di lokasi ini. Coba lagi!\")\n",
        "\n",
        "    print(\"Terima kasih sudah bermain !\")\n",
        "\n",
        "# Jalankan permainan\n",
        "play_treasure_hunt()"
      ]
    },
    {
      "cell_type": "markdown",
      "source": [
        "Analisis  baris kode \" Treasure Hunt\" beserta Outputnya"
      ],
      "metadata": {
        "id": "xTnruNWqsMYt"
      }
    },
    {
      "cell_type": "markdown",
      "source": [
        "# TUGAS"
      ],
      "metadata": {
        "id": "RGmZN1VDhK4o"
      }
    },
    {
      "cell_type": "code",
      "source": [
        "# Ukuran peta\n",
        "size = int(input(\"Masukkan Ukuran Peta yang diingnkan:\"))\n",
        "\n",
        "# Membuat pete dengan harta karun tersembunyi\n",
        "treasure_map = [\"_\" for _ in range(size)]\n",
        "\n",
        "# Menentukan lokasi harta karun secara random\n",
        "import random\n",
        "print(f\"Selamat datang di Treasure Hunt! Peta memiliki {size} lokasi (0 hingga {size-1}).\")\n",
        "treasure_index = random.randint(0, size-1)\n",
        "treasure_map[treasure_index] = \"X\" # Menyembunyikan harta karun di lokasi yang dipilih\n",
        "\n",
        "# Fungsi untuk memulai permainan\n",
        "def play_treasure_hunt():\n",
        "    print(\"\\nHarta karun telah di sembunyikan! Sekarang giliran pemain menembak.\")\n",
        "    print(\"Cobalah untuk menemukan harta karun dengan menembak indeks yang benar.\")\n",
        "\n",
        "    # Loop permainan\n",
        "    while  True:\n",
        "        # Menampilakan peta tersembunyi kepada pemain\n",
        "        print(\"\\nPeta saat ini: \", [\"_\" for _ in range(size)]) # Peta tersembunyi\n",
        "\n",
        "        # Input pemain\n",
        "        try:\n",
        "            guess = int(input(f\"Masukkan indeks tembakanmu (0-{size-1}):\"))\n",
        "        except ValueError:\n",
        "            print(\"Masukkan angka yang valid!\")\n",
        "            continue\n",
        "        # Validasi input\n",
        "        if guess < 0 or guess >= size:\n",
        "            print(\"Indeks tidak valid, pilih atar 0 hingga\", size-1)\n",
        "            continue\n",
        "\n",
        "        # Mengecek apakah tembakan benar\n",
        "        if treasure_map[guess] == \"X\":\n",
        "            print(\"Selamat! kamu menemukan harta karun di lokasi:\", guess)\n",
        "            break\n",
        "        else:\n",
        "            print(\" Tidak ada harta di lokasi ini. Coba lagi!\")\n",
        "\n",
        "    print(\"Terima kasih sudah bermain !\")\n",
        "\n",
        "# Jalankan permainan\n",
        "play_treasure_hunt()"
      ],
      "metadata": {
        "id": "uPNVpgWsuWYa",
        "colab": {
          "base_uri": "https://localhost:8080/"
        },
        "outputId": "ab022e8f-b23e-4b10-cbf8-432d29157bad"
      },
      "execution_count": null,
      "outputs": [
        {
          "output_type": "stream",
          "name": "stdout",
          "text": [
            "Masukkan Ukuran Peta yang diingnkan:1\n",
            "Selamat datang di Treasure Hunt! Peta memiliki 1 lokasi (0 hingga 0).\n",
            "\n",
            "Harta karun telah di sembunyikan! Sekarang giliran pemain menembak.\n",
            "Cobalah untuk menemukan harta karun dengan menembak indeks yang benar.\n",
            "\n",
            "Peta saat ini:  ['_']\n",
            "Masukkan indeks tembakanmu (0-0):1\n",
            "Indeks tidak valid, pilih atar 0 hingga 0\n",
            "\n",
            "Peta saat ini:  ['_']\n",
            "Masukkan indeks tembakanmu (0-0):0\n",
            "Selamat! kamu menemukan harta karun di lokasi: 0\n",
            "Terima kasih sudah bermain !\n"
          ]
        }
      ]
    }
  ]
}