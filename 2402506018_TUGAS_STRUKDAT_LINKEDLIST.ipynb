{
  "nbformat": 4,
  "nbformat_minor": 0,
  "metadata": {
    "colab": {
      "provenance": [],
      "authorship_tag": "ABX9TyN77q9ch/hSo8TKvjCvuxUJ",
      "include_colab_link": true
    },
    "kernelspec": {
      "name": "python3",
      "display_name": "Python 3"
    },
    "language_info": {
      "name": "python"
    }
  },
  "cells": [
    {
      "cell_type": "markdown",
      "metadata": {
        "id": "view-in-github",
        "colab_type": "text"
      },
      "source": [
        "<a href=\"https://colab.research.google.com/github/HFOURM/Praktikum-Struktur-Data/blob/main/2402506018_TUGAS_STRUKDAT_LINKEDLIST.ipynb\" target=\"_parent\"><img src=\"https://colab.research.google.com/assets/colab-badge.svg\" alt=\"Open In Colab\"/></a>"
      ]
    },
    {
      "cell_type": "code",
      "execution_count": 13,
      "metadata": {
        "id": "GeyXZTLuLq-U",
        "colab": {
          "base_uri": "https://localhost:8080/"
        },
        "outputId": "ab8c60fa-3a44-4837-b905-df33de8375fb"
      },
      "outputs": [
        {
          "output_type": "stream",
          "name": "stdout",
          "text": [
            "Masukkan nama Satpam Ke-1: Dzakii\n",
            "Masukkan nama Satpam Ke-2: Abdi\n",
            "Masukkan nama Satpam Ke-3: Hammam\n",
            "Masukkan nama Satpam Ke-4: Salwa\n",
            "\n",
            "Jadwal Piket Satpam Selama 2 Minggu:\n",
            "\n",
            "Hari 1: Dzakii\n",
            "Hari 2: Abdi\n",
            "Hari 3: Hammam\n",
            "Hari 4: Salwa\n",
            "Hari 5: Dzakii\n",
            "Hari 6: Abdi\n",
            "Hari 7: Hammam\n",
            "Hari 8: Salwa\n",
            "Hari 9: Dzakii\n",
            "Hari 10: Abdi\n",
            "Hari 11: Hammam\n",
            "Hari 12: Salwa\n",
            "Hari 13: Dzakii\n",
            "Hari 14: Abdi\n"
          ]
        }
      ],
      "source": [
        "# Definisi Node dalam\n",
        "class PiketSatpamNode:\n",
        "    def __init__(self, nama_satpam):\n",
        "        self.nama_satpam = nama_satpam # nama satpam\n",
        "        self.next = None # Pointer ke nama satpam berikutnya\n",
        "\n",
        "# Definisi Doubly Linked List untuk Jadwal Satpam\n",
        "class JadwalPiket:\n",
        "    def __init__(self):\n",
        "        self.head = None\n",
        "\n",
        "    #Menambahkan satpam baru ke dalam Jadawl Piket\n",
        "    def add_satpam(self, nama_satpam):\n",
        "        new_node = PiketSatpamNode(nama_satpam)\n",
        "        if not self.head:\n",
        "            self.head = new_node\n",
        "            self.head.next = self.head\n",
        "        else:\n",
        "            temp = self.head\n",
        "            while temp.next != self.head:\n",
        "                temp = temp.next\n",
        "            temp.next = new_node\n",
        "            new_node.next = self.head\n",
        "    # Menampilkan Jadwal Piket\n",
        "    def print_jadwal(self, hari):\n",
        "        if not self.head:\n",
        "            print(\"Jadwal piket tidak ditemukan.\")\n",
        "            return\n",
        "        print(\"\\nJadwal Piket Satpam Selama 2 Minggu:\\n\")\n",
        "        temp = self.head\n",
        "        for hari in range(1, hari + 1):\n",
        "            print(f\"Hari {hari}: {temp.nama_satpam}\")\n",
        "            temp = temp.next\n",
        "\n",
        "# ===== Program Utama (Main) ===== #\n",
        "\n",
        "# Membuat objek jadwal piket\n",
        "jadwal = JadwalPiket()\n",
        "\n",
        "# Loop untuk memasukkan nama satpam ke dalam Doubly Linked List\n",
        "for i in range(4):\n",
        "    name = input(f\"Masukkan nama Satpam Ke-{i + 1}: \")\n",
        "    jadwal.add_satpam(name)\n",
        "\n",
        "jadwal.print_jadwal(14)"
      ]
    }
  ]
}