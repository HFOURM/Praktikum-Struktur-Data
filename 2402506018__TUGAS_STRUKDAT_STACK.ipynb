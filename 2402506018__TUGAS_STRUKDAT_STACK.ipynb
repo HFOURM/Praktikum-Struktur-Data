{
  "nbformat": 4,
  "nbformat_minor": 0,
  "metadata": {
    "colab": {
      "provenance": [],
      "authorship_tag": "ABX9TyNNk6PY+6zxcnipi+1zv4Ue",
      "include_colab_link": true
    },
    "kernelspec": {
      "name": "python3",
      "display_name": "Python 3"
    },
    "language_info": {
      "name": "python"
    }
  },
  "cells": [
    {
      "cell_type": "markdown",
      "metadata": {
        "id": "view-in-github",
        "colab_type": "text"
      },
      "source": [
        "<a href=\"https://colab.research.google.com/github/HFOURM/Praktikum-Struktur-Data/blob/main/2402506018__TUGAS_STRUKDAT_STACK.ipynb\" target=\"_parent\"><img src=\"https://colab.research.google.com/assets/colab-badge.svg\" alt=\"Open In Colab\"/></a>"
      ]
    },
    {
      "cell_type": "markdown",
      "source": [
        "# TUGAS ROMBEL GANJIL"
      ],
      "metadata": {
        "id": "vLeLQ1Jr4xft"
      }
    },
    {
      "cell_type": "code",
      "execution_count": 8,
      "metadata": {
        "id": "D9O68pvCbtEJ",
        "colab": {
          "base_uri": "https://localhost:8080/"
        },
        "outputId": "9981b9f8-20bf-47c5-c9cb-3c1d44c53333"
      },
      "outputs": [
        {
          "output_type": "stream",
          "name": "stdout",
          "text": [
            "Game Tower of Hanoi!\n",
            "\n",
            "Memindahkan Cakram 5 ke tiang 2\n",
            "Tiang 2 = ['Cakram 5']\n",
            "\n",
            "Memindahkan Cakram 4 ke tiang 3\n",
            "Tiang 3 = ['Cakram 4']\n",
            "\n",
            "Memindahkan Cakram 4 ke tiang 2\n",
            "Tiang 2 = ['Cakram 5', 'Cakram 4']\n",
            "\n",
            "Memindahkan Cakram 4 ke tiang 3\n",
            "Tiang 3 = []\n",
            "\n",
            "Memindahkan Cakram 3 ke tiang 2\n",
            "Tiang 2 = ['Cakram 5', 'Cakram 4', 'Cakram 3']\n",
            "\n",
            "Menampilkan Semua Tiang\n",
            "Tiang 1 = ['Cakram 1', 'Cakram 2']\n",
            "Tiang 2 = ['Cakram 5', 'Cakram 4', 'Cakram 3']\n",
            "Tiang 3 = []\n"
          ]
        }
      ],
      "source": [
        "# Kode Tower of Hanoi\n",
        "class TowerofHanoi:\n",
        "    def __init__(self):\n",
        "        self.disks1 = []\n",
        "        self.disks2 = []\n",
        "        self.disks3 = []\n",
        "\n",
        "    def add(self, cakram):\n",
        "        self.disks1.append(cakram)\n",
        "\n",
        "    def move12(self):\n",
        "        if self.disks1:\n",
        "            push = self.disks1[-1]\n",
        "            self.disks2.append(push)\n",
        "            print(f\"Memindahkan {push} ke tiang 2\")\n",
        "            print(f\"Tiang 2 = {self.disks2}\\n\")\n",
        "            self.disks1.pop()\n",
        "            return\n",
        "\n",
        "    def move13(self):\n",
        "        if self.disks1:\n",
        "            push = self.disks1[-1]\n",
        "            self.disks3.append(push)\n",
        "            print(f\"Memindahkan {push} ke tiang 3\")\n",
        "            print(f\"Tiang 3 = {self.disks3}\\n\")\n",
        "            self.disks1.pop()\n",
        "            return\n",
        "\n",
        "    def move32(self):\n",
        "        if self.disks3:\n",
        "            push = self.disks3[-1]\n",
        "            self.disks2.append(push)\n",
        "            print(f\"Memindahkan {push} ke tiang 2\")\n",
        "            print(f\"Tiang 2 = {self.disks2}\\n\")\n",
        "            self.disks3.pop()\n",
        "            return\n",
        "\n",
        "    def move23(self):\n",
        "        if self.disks2:\n",
        "            push = self.disks2[-1]\n",
        "            self.disks2.append(push)\n",
        "            print(f\"Memindahkan {push} ke tiang 3\")\n",
        "            print(f\"Tiang 3 = {self.disks3}\\n\")\n",
        "            self.disks2.pop()\n",
        "            return\n",
        "\n",
        "# ===== Program Utama ===== #\n",
        "cakram = TowerofHanoi()\n",
        "print(\"Game Tower of Hanoi!\\n\")\n",
        "cakram.add(\"Cakram 1\")\n",
        "cakram.add(\"Cakram 2\")\n",
        "cakram.add(\"Cakram 3\")\n",
        "cakram.add(\"Cakram 4\")\n",
        "cakram.add(\"Cakram 5\")\n",
        "\n",
        "cakram.move12()\n",
        "cakram.move13()\n",
        "cakram.move32()\n",
        "cakram.move23()\n",
        "cakram.move12()\n",
        "print(\"Menampilkan Semua Tiang\")\n",
        "print(f\"Tiang 1 = {cakram.disks1}\")\n",
        "print(f\"Tiang 2 = {cakram.disks2}\")\n",
        "print(f\"Tiang 3 = {cakram.disks3}\")"
      ]
    }
  ]
}