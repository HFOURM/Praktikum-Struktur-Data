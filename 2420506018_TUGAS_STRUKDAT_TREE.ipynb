{
  "nbformat": 4,
  "nbformat_minor": 0,
  "metadata": {
    "colab": {
      "provenance": [],
      "authorship_tag": "ABX9TyPTmcn8w1hJ/xRFJ6ALqBDp",
      "include_colab_link": true
    },
    "kernelspec": {
      "name": "python3",
      "display_name": "Python 3"
    },
    "language_info": {
      "name": "python"
    }
  },
  "cells": [
    {
      "cell_type": "markdown",
      "metadata": {
        "id": "view-in-github",
        "colab_type": "text"
      },
      "source": [
        "<a href=\"https://colab.research.google.com/github/HFOURM/Praktikum-Struktur-Data/blob/main/2420506018_TUGAS_STRUKDAT_TREE.ipynb\" target=\"_parent\"><img src=\"https://colab.research.google.com/assets/colab-badge.svg\" alt=\"Open In Colab\"/></a>"
      ]
    },
    {
      "cell_type": "markdown",
      "source": [
        "Tugas 1"
      ],
      "metadata": {
        "id": "BrlaTJN4zjBS"
      }
    },
    {
      "cell_type": "code",
      "execution_count": 2,
      "metadata": {
        "colab": {
          "base_uri": "https://localhost:8080/"
        },
        "id": "Tmn2OtwwzgNo",
        "outputId": "a3a850f5-2ca4-456f-8df9-2e8e22935011"
      },
      "outputs": [
        {
          "output_type": "stream",
          "name": "stdout",
          "text": [
            "Hasil Inorder Tranversal dari binary tree:\n",
            "6 8 23 18 6 "
          ]
        }
      ],
      "source": [
        "# Struktur Tree berdasarkan identitas saya\n",
        "class Node:\n",
        "    def __init__(self, data):\n",
        "        self.data = data\n",
        "        self.left = None\n",
        "        self.right = None\n",
        "\n",
        "# Membuat tree secara manual\n",
        "root = Node(23)\n",
        "root.left = Node(8)\n",
        "root.right = Node(18)\n",
        "root.left.left = Node(6)\n",
        "root.right.right = Node(6)\n",
        "\n",
        "# Fungsi inorder tranversal\n",
        "def inorder(node):\n",
        "    if node:\n",
        "        inorder(node.left)\n",
        "        print(node.data, end=' ')\n",
        "        inorder(node.right)\n",
        "\n",
        "print(\"Hasil Inorder Tranversal dari binary tree:\")\n",
        "inorder(root)"
      ]
    },
    {
      "cell_type": "markdown",
      "source": [
        "Tugas 2"
      ],
      "metadata": {
        "id": "PnPctnonzjY6"
      }
    },
    {
      "cell_type": "code",
      "source": [
        "class Node:\n",
        "    def __init__(self, data):\n",
        "        self.data = data\n",
        "        self.left = None\n",
        "        self.right = None\n",
        "\n",
        "class BinarySearchTree:\n",
        "    def __init__(self):\n",
        "        self.root = None\n",
        "\n",
        "    def insert(self, root, data):\n",
        "        if root is None:\n",
        "            return Node(data)\n",
        "        if data < root.data:\n",
        "            root.left = self.insert(root.left, data)\n",
        "        else:\n",
        "            root.right = self.insert(root.right, data)\n",
        "        return root\n",
        "\n",
        "# Fungsi inorder tranversal\n",
        "def inorder(node):\n",
        "    if node:\n",
        "        inorder(node.left)\n",
        "        print(node.data, end=' ')\n",
        "        inorder(node.right)\n",
        "\n",
        "# Fungsi preorder tranversal\n",
        "def preorder(node):\n",
        "    if node:\n",
        "        print(node.data, end=' ')\n",
        "        preorder(node.left)\n",
        "        preorder(node.right)\n",
        "\n",
        "# Funsi postorder tranversal\n",
        "def postorder(node):\n",
        "    if node:\n",
        "        postorder(node.left)\n",
        "        postorder(node.right)\n",
        "        print(node.data, end=' ')\n",
        "\n",
        "# Fungsi pencarian nilai\n",
        "def search(node, key):\n",
        "    if node is None or node.data == key:\n",
        "        return node\n",
        "    if key < node.data:\n",
        "        return search(node.left, key)\n",
        "    return search(node.right, key)\n",
        "\n",
        "bst = BinarySearchTree()\n",
        "root = None\n",
        "data_list = [618, 6, 6, 77, 65, 3, 7]\n",
        "for value in data_list:\n",
        "    root = bst.insert(root, value)\n",
        "\n",
        "# Menampilkan hasil tiap tranversal\n",
        "print(\"Hasil Inoerder Tranversal:\")\n",
        "inorder(root)\n",
        "print(\"\\nHasil Preorder Tranvesal:\")\n",
        "preorder(root)\n",
        "print(\"\\nHasil Postorder Tranversal:\")\n",
        "postorder(root)\n",
        "print(\"\\n\")\n",
        "# Menguji fitur pencarian\n",
        "key = 18\n",
        "result = search(root, key)\n",
        "print(f\"\\nPencarian angka {key}:\")\n",
        "if result:\n",
        "    print(f\"angka {key} ditemukan dalam tree.\")\n",
        "else:\n",
        "    print(f\"angka {key} tidak ditemukan.\")\n",
        "key = 10\n",
        "result = search(root, key)\n",
        "print(f\"\\nPencarian angka {key}:\")\n",
        "if result:\n",
        "    print(f\"angka {key} ditemukan dalam tree.\")\n",
        "else:\n",
        "    print(f\"angka {key} tidak ditemukan.\")"
      ],
      "metadata": {
        "colab": {
          "base_uri": "https://localhost:8080/"
        },
        "id": "Knpht3wXzjo6",
        "outputId": "d4a2f90c-6314-4c68-d639-40210c4221f1"
      },
      "execution_count": 29,
      "outputs": [
        {
          "output_type": "stream",
          "name": "stdout",
          "text": [
            "Hasil Inoerder Tranversal:\n",
            "3 6 6 7 65 77 618 \n",
            "Hasil Preorder Tranvesal:\n",
            "618 6 3 6 77 65 7 \n",
            "Hasil Postorder Tranversal:\n",
            "3 7 65 77 6 6 618 \n",
            "\n",
            "\n",
            "Pencarian angka 18:\n",
            "angka 18 tidak ditemukan.\n",
            "\n",
            "Pencarian angka 10:\n",
            "angka 10 tidak ditemukan.\n"
          ]
        }
      ]
    }
  ]
}